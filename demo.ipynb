{
 "cells": [
  {
   "cell_type": "markdown",
   "metadata": {
    "collapsed": true,
    "jupyter": {
     "outputs_hidden": true
    },
    "pycharm": {
     "name": "#%% md\n"
    }
   },
   "source": [
    "# A Demonstration of our proposed Inverting Stochasticity from Gradients (ISG) Attack"
   ]
  },
  {
   "cell_type": "markdown",
   "metadata": {
    "collapsed": false,
    "jupyter": {
     "outputs_hidden": false
    },
    "pycharm": {
     "name": "#%% md\n"
    }
   },
   "source": [
    "## Importing Required Libraries"
   ]
  },
  {
   "cell_type": "code",
   "execution_count": 1,
   "metadata": {
    "collapsed": false,
    "jupyter": {
     "outputs_hidden": false
    },
    "pycharm": {
     "name": "#%%\n"
    }
   },
   "outputs": [],
   "source": [
    "import os\n",
    "import torch\n",
    "import ISG\n",
    "import IG\n",
    "import torchvision\n",
    "import matplotlib.pyplot as plt\n",
    "from PIL import Image\n",
    "from arch.model import VBMLP\n",
    "import torchvision.transforms as transforms\n",
    "from torch.nn.functional import mse_loss\n",
    "from torchmetrics.functional.image import structural_similarity_index_measure, learned_perceptual_image_patch_similarity"
   ]
  },
  {
   "cell_type": "code",
   "execution_count": 2,
   "metadata": {
    "collapsed": false,
    "jupyter": {
     "outputs_hidden": false
    },
    "pycharm": {
     "name": "#%%\n"
    }
   },
   "outputs": [],
   "source": [
    "device = torch.device(f'cuda:0')\n",
    "setup = dict(device=device, dtype=torch.float)\n",
    "loss_fn = torch.nn.CrossEntropyLoss()"
   ]
  },
  {
   "cell_type": "markdown",
   "metadata": {
    "collapsed": false,
    "jupyter": {
     "outputs_hidden": false
    },
    "pycharm": {
     "name": "#%% md\n"
    }
   },
   "source": [
    "## Load a victim CIFAR-10 image"
   ]
  },
  {
   "cell_type": "code",
   "execution_count": 3,
   "metadata": {
    "collapsed": false,
    "jupyter": {
     "outputs_hidden": false
    },
    "pycharm": {
     "name": "#%%\n"
    }
   },
   "outputs": [
    {
     "data": {
      "image/png": "[encoded data removed]",
      "text/plain": [
       "<Figure size 640x480 with 1 Axes>"
      ]
     },
     "metadata": {},
     "output_type": "display_data"
    }
   ],
   "source": [
    "image = Image.open('7.png')\n",
    "\n",
    "# Define transformations\n",
    "mean=[0.485, 0.456, 0.406]\n",
    "std=[0.229, 0.224, 0.225]\n",
    "transform = transforms.Compose([\n",
    "    # Normalize pixel values to [-1, 1]\n",
    "    transforms.ToTensor(),\n",
    "    transforms.Normalize(mean=mean, \n",
    "                         std=std)\n",
    "])\n",
    "dm, ds = torch.as_tensor(mean, **setup)[:, None, None], torch.as_tensor(std, **setup)[:, None, None]\n",
    "\n",
    "# Apply the transformations\n",
    "image_transformed = transform(image)\n",
    "# Add a batch dimension (the model expects a batch, even if it's a batch of one)\n",
    "# This will change the shape from [C, H, W] to [1, C, H, W]\n",
    "image_batch = image_transformed.unsqueeze(0).to(device)\n",
    "# random assign a label to the image\n",
    "label_batch = torch.tensor([1,], dtype=torch.int64).to(device)\n",
    "\n",
    "def plot(tensor):\n",
    "    tensor = tensor.clone().detach()\n",
    "    tensor.mul_(ds).add_(dm).clamp_(0, 1)\n",
    "    if tensor.shape[0] == 1:\n",
    "        plt.imshow(tensor[0].permute(1, 2, 0).cpu())\n",
    "        plt.axis('off')\n",
    "    else:\n",
    "        fig, axes = plt.subplots(1, tensor.shape[0], figsize=(12, tensor.shape[0]*12))\n",
    "        for i, im in enumerate(tensor):\n",
    "            axes[i].imshow(im.permute(1, 2, 0).cpu())\n",
    "            plt.axis('off')\n",
    "\n",
    "plot(image_batch)"
   ]
  },
  {
   "cell_type": "markdown",
   "metadata": {},
   "source": [
    "# Load the victim model"
   ]
  },
  {
   "cell_type": "code",
   "execution_count": 4,
   "metadata": {},
   "outputs": [
    {
     "name": "stdout",
     "output_type": "stream",
     "text": [
      "VBMLP(\n",
      "  (flat): Flatten(start_dim=1, end_dim=-1)\n",
      "  (l1): Linear(in_features=3072, out_features=1024, bias=True)\n",
      "  (relu): ReLU()\n",
      "  (l2): Linear(in_features=1024, out_features=1024, bias=True)\n",
      "  (l3): Linear(in_features=1024, out_features=10, bias=True)\n",
      "  (vb): VariationalBottleneck(\n",
      "    (encoder): Linear(in_features=1024, out_features=512, bias=True)\n",
      "    (decoder): Linear(in_features=256, out_features=1024, bias=True)\n",
      "  )\n",
      ")\n"
     ]
    }
   ],
   "source": [
    "victim_model = VBMLP()\n",
    "victim_model.to(**setup)\n",
    "\n",
    "parameters = dict(inherent=[], multiplier=[], eps=[])\n",
    "for name, p in victim_model.named_parameters():\n",
    "    if 'multiplier' in name:\n",
    "        parameters['multiplier'].append(p)\n",
    "    # learnable intermediate noise\n",
    "    elif 'eps' in name:\n",
    "        continue\n",
    "        # parameters['eps'].append(p)\n",
    "    # the model parameters\n",
    "    else:\n",
    "        parameters['inherent'].append(p)\n",
    "print(victim_model)"
   ]
  },
  {
   "cell_type": "markdown",
   "metadata": {
    "pycharm": {
     "name": "#%% md\n"
    }
   },
   "source": [
    "## Compute the true gradients"
   ]
  },
  {
   "cell_type": "code",
   "execution_count": 5,
   "metadata": {
    "collapsed": false,
    "jupyter": {
     "outputs_hidden": false
    },
    "pycharm": {
     "name": "#%%\n"
    }
   },
   "outputs": [],
   "source": [
    "# clear the gradient and re-initialize the weights\n",
    "victim_model.zero_grad()\n",
    "# sample new intermediate noise\n",
    "victim_model.clear()\n",
    "victim_model.unfreeze()\n",
    "\n",
    "# victim_model.loss() refers to the KLD between posteriors and priors\n",
    "target_loss = loss_fn(victim_model(image_batch), label_batch) + victim_model.loss()\n",
    "input_gradient = torch.autograd.grad(target_loss, parameters['inherent'])"
   ]
  },
  {
   "cell_type": "markdown",
   "metadata": {},
   "source": [
    "## Reconstruct the training image from gradients by using *Inverting Gradients* (IG) approach "
   ]
  },
  {
   "cell_type": "markdown",
   "metadata": {},
   "source": [
    "### Configure the experimental setup"
   ]
  },
  {
   "cell_type": "code",
   "execution_count": 6,
   "metadata": {},
   "outputs": [],
   "source": [
    "config = dict(signed=True,\n",
    "              boxed=True,\n",
    "              cost_fn='sim',\n",
    "              indices='def',\n",
    "              weights='equal',\n",
    "              lr=0.1,\n",
    "              optim='adam',\n",
    "              restarts=1,\n",
    "              max_iterations=3200,\n",
    "              total_variation=1e-6,\n",
    "              init='randn',\n",
    "              filter='none',\n",
    "              lr_decay=True,\n",
    "              scoring_choice='loss',\n",
    "              )\n",
    "\n",
    "rec_machine = IG.GradientReconstructor(\n",
    "    victim_model, (dm, ds), config, num_images=1\n",
    ")"
   ]
  },
  {
   "cell_type": "markdown",
   "metadata": {},
   "source": [
    "Reconstructing ..."
   ]
  },
  {
   "cell_type": "code",
   "execution_count": 7,
   "metadata": {},
   "outputs": [
    {
     "name": "stdout",
     "output_type": "stream",
     "text": [
      "It: 0. Rec. loss: 0.9842.\n",
      "It: 500. Rec. loss: 0.5042.\n",
      "It: 1000. Rec. loss: 0.5046.\n",
      "It: 1500. Rec. loss: 0.5016.\n",
      "It: 2000. Rec. loss: 0.5018.\n",
      "It: 2500. Rec. loss: 0.5022.\n",
      "It: 3000. Rec. loss: 0.5029.\n",
      "It: 3199. Rec. loss: 0.5026.\n",
      "Choosing optimal result ...\n",
      "Optimal result score: 0.5014\n",
      "Total time: 33.96567678451538.\n"
     ]
    }
   ],
   "source": [
    "# discard the sampled data representation\n",
    "victim_model.zero_grad()\n",
    "victim_model.clear()\n",
    "victim_model.freeze()\n",
    "\n",
    "dummy_images, _ = \\\n",
    "            rec_machine.reconstruct(\n",
    "                input_gradient, label_batch, img_shape=(3, 32, 32)\n",
    "            )"
   ]
  },
  {
   "cell_type": "markdown",
   "metadata": {},
   "source": [
    "## Assess the quality of the reconstructed image"
   ]
  },
  {
   "cell_type": "code",
   "execution_count": 8,
   "metadata": {},
   "outputs": [
    {
     "name": "stdout",
     "output_type": "stream",
     "text": [
      "MSE: 4.671128273010254 \n",
      "PSNR: -3.347108840942383 \n",
      "SSIM: 0.011125202290713787\n"
     ]
    },
    {
     "data": {
      "image/png": "[encoded data removed]",
      "text/plain": [
       "<Figure size 640x480 with 1 Axes>"
      ]
     },
     "metadata": {},
     "output_type": "display_data"
    }
   ],
   "source": [
    "MSE = torch.mean(mse_loss(dummy_images, image_batch, reduction='none'))\n",
    "PSNR = 10 * torch.log10(1.0 / (torch.sqrt(MSE) + 1e-8))\n",
    "SSIM = structural_similarity_index_measure(dummy_images, image_batch, data_range=1.0, reduction='none').item()\n",
    "\n",
    "print(f'MSE: {MSE} \\nPSNR: {PSNR} \\nSSIM: {SSIM}')\n",
    "plot(dummy_images)"
   ]
  },
  {
   "cell_type": "markdown",
   "metadata": {},
   "source": [
    "## Reconstruct the training image from gradients by using our approach (ISG)"
   ]
  },
  {
   "cell_type": "code",
   "execution_count": 9,
   "metadata": {},
   "outputs": [
    {
     "name": "stdout",
     "output_type": "stream",
     "text": [
      "It: 0. Rec. loss: 0.9811.\n",
      "It: 500. Rec. loss: 0.0019.\n",
      "It: 1000. Rec. loss: 0.0016.\n",
      "It: 1500. Rec. loss: 0.0015.\n",
      "It: 2000. Rec. loss: 0.0015.\n",
      "It: 2500. Rec. loss: 0.0015.\n",
      "It: 3000. Rec. loss: 0.0015.\n",
      "It: 3199. Rec. loss: 0.0015.\n",
      "Choosing optimal result ...\n",
      "Optimal result score: 0.0015\n",
      "Total time: 37.264662981033325.\n"
     ]
    }
   ],
   "source": [
    "# hook the intermediate noise which is going to be optimized\n",
    "for name, p in victim_model.named_parameters():\n",
    "    if 'eps' in name:\n",
    "        parameters['eps'].append(p)\n",
    "\n",
    "# experimental setup\n",
    "config = dict(signed=True,\n",
    "              boxed=True,\n",
    "              cost_fn='sim',\n",
    "              indices='def',\n",
    "              weights='equal',\n",
    "              lr=0.1,\n",
    "              optim='adam',\n",
    "              restarts=1,\n",
    "              max_iterations=3200,\n",
    "              total_variation=1e-6,\n",
    "              init='randn',\n",
    "              filter='none',\n",
    "              lr_decay=True,\n",
    "              scoring_choice='loss',\n",
    "              )\n",
    "\n",
    "rec_machine = ISG.GradientReconstructor(\n",
    "    victim_model, parameters, (dm, ds), config, num_images=1\n",
    ")\n",
    "\n",
    "victim_model.zero_grad()\n",
    "victim_model.clear()\n",
    "victim_model.freeze()\n",
    "\n",
    "dummy_images, dummy_labels, _ = \\\n",
    "            rec_machine.reconstruct(\n",
    "                input_gradient, label_batch, img_shape=(3, 32, 32)\n",
    "            )"
   ]
  },
  {
   "cell_type": "markdown",
   "metadata": {},
   "source": [
    "## Assessing the Quality of Our Reconstructed Image"
   ]
  },
  {
   "cell_type": "code",
   "execution_count": 10,
   "metadata": {},
   "outputs": [
    {
     "name": "stdout",
     "output_type": "stream",
     "text": [
      "MSE: 0.0014968675095587969 \n",
      "PSNR: 14.124082565307617 \n",
      "SSIM: 0.9976757764816284\n"
     ]
    },
    {
     "data": {
      "image/png": "[encoded data removed]",
      "text/plain": [
       "<Figure size 640x480 with 1 Axes>"
      ]
     },
     "metadata": {},
     "output_type": "display_data"
    }
   ],
   "source": [
    "MSE = torch.mean(mse_loss(dummy_images, image_batch, reduction='none'))\n",
    "PSNR = 10 * torch.log10(1.0 / (torch.sqrt(MSE) + 1e-8))\n",
    "SSIM = structural_similarity_index_measure(dummy_images, image_batch, data_range=1.0, reduction='none').item()\n",
    "\n",
    "print(f'MSE: {MSE} \\nPSNR: {PSNR} \\nSSIM: {SSIM}')\n",
    "plot(dummy_images)"
   ]
  },
  {
   "cell_type": "markdown",
   "metadata": {},
   "source": [
    "## Used Official Repositories::\n",
    "- Repository of IG: https://github.com/JonasGeiping/invertinggradients\n",
    "- Repository of VBMLP: https://github.com/dAI-SY-Group/PRECODE/blob/master/PRECODE.ipynb\n",
    "\n",
    "## Reference\n",
    "- Scheliga, Daniel et al. “PRECODE - A Generic Model Extension to Prevent Deep Gradient Leakage.” 2022 IEEE/CVF Winter Conference on Applications of Computer Vision (WACV) (2021): 3605-3614.\n",
    "- Geiping, Jonas, et al. \"Inverting gradients-how easy is it to break privacy in federated learning?.\" Advances in neural information processing systems 33 (2020): 16937-16947."
   ]
  }
 ],
 "metadata": {
  "kernelspec": {
   "display_name": "Python 3 (ipykernel)",
   "language": "python",
   "name": "python3"
  },
  "language_info": {
   "codemirror_mode": {
    "name": "ipython",
    "version": 3
   },
   "file_extension": ".py",
   "mimetype": "text/x-python",
   "name": "python",
   "nbconvert_exporter": "python",
   "pygments_lexer": "ipython3",
   "version": "3.12.1"
  }
 },
 "nbformat": 4,
 "nbformat_minor": 4
}
